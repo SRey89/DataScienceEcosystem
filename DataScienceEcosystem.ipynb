{
 "cells": [
  {
   "cell_type": "markdown",
   "id": "b81e44f8-9494-4b05-8fd0-83ecffd247cd",
   "metadata": {},
   "source": [
    "<center>\n",
    "    <img src=\"https://cf-courses-data.s3.us.cloud-object-storage.appdomain.cloud/IBMDeveloperSkillsNetwork-DS0105EN-SkillsNetwork/labs/Module2/images/SN_web_lightmode.png\" width=\"300\" alt=\"cognitiveclass.ai logo\">\n",
    "</center>"
   ]
  },
  {
   "cell_type": "markdown",
   "id": "1b91880c-7d56-4b8b-8feb-97ffac06bc52",
   "metadata": {
    "tags": []
   },
   "source": [
    "# Data Science Tools and Ecosystem"
   ]
  },
  {
   "cell_type": "markdown",
   "id": "6762dc8a-1878-4630-aeb1-7cf08dfb9b26",
   "metadata": {},
   "source": [
    "In this notebook, Data Science Tools and Ecosystem are summarized."
   ]
  },
  {
   "cell_type": "markdown",
   "id": "435eb39e-68c3-4148-90aa-7a18e5f34012",
   "metadata": {},
   "source": [
    "**Objectives:**\n",
    "\n",
    "- Create a markdown cell\n",
    "- Create a code cell\n",
    "- Add an ordered list\n",
    "- Add heading styles\n",
    "- Add bold text"
   ]
  },
  {
   "cell_type": "markdown",
   "id": "450b0647-b427-4e7e-9977-023d45229ef5",
   "metadata": {},
   "source": [
    "Some of the popular languages that Data Scientists use are:\n",
    "\n",
    "1. Python\n",
    "2. SQL\n",
    "3. R\n",
    "4. C++\n",
    "5. Julia\n",
    "6. Scala\n",
    "7. Java"
   ]
  },
  {
   "cell_type": "markdown",
   "id": "fb6098d8-4ae3-4b34-8101-524d3690a11d",
   "metadata": {},
   "source": [
    "Some of the commonly used libraries used by Data Scientists include:\n",
    "\n",
    "1. ggplot2\n",
    "2. Lattice\n",
    "3. NumPy\n",
    "4. Pandas\n",
    "5. TensorFlow"
   ]
  },
  {
   "cell_type": "markdown",
   "id": "568715e7-0ded-47e3-b106-02719e965dd6",
   "metadata": {},
   "source": [
    "|Data Science Tools|\n",
    "|------------------|\n",
    "|R Studio|\n",
    "|Anaconda|\n",
    "|Jupyter Notebooks|"
   ]
  },
  {
   "cell_type": "markdown",
   "id": "8f6ee049-2e63-4c86-9fb0-60ed8ec2620e",
   "metadata": {},
   "source": [
    "### Below are a few examples of evaluating arithmetic expressions in Python"
   ]
  },
  {
   "cell_type": "code",
   "execution_count": 6,
   "id": "36aaa614-ee46-41fc-81ce-e890431155b1",
   "metadata": {
    "tags": []
   },
   "outputs": [
    {
     "data": {
      "text/plain": [
       "17"
      ]
     },
     "execution_count": 6,
     "metadata": {},
     "output_type": "execute_result"
    }
   ],
   "source": [
    "# This is a simple arithmetic expression to mutiply then add integers\n",
    "(3*4)+5"
   ]
  },
  {
   "cell_type": "code",
   "execution_count": 1,
   "id": "17941da5-47f5-484a-a9cb-d266773f3640",
   "metadata": {
    "tags": []
   },
   "outputs": [
    {
     "data": {
      "text/plain": [
       "3.3333333333333335"
      ]
     },
     "execution_count": 1,
     "metadata": {},
     "output_type": "execute_result"
    }
   ],
   "source": [
    "# This will convert 200 minutes to hours by dividing by 60\n",
    "\n",
    "200/60"
   ]
  },
  {
   "cell_type": "markdown",
   "id": "41b6977a-4686-4398-83d7-2ee022684ac9",
   "metadata": {},
   "source": [
    "## Author\n",
    "Sinéad Reynolds"
   ]
  },
  {
   "cell_type": "code",
   "execution_count": null,
   "id": "076e0e74-8d15-4b6f-aad5-57f548ebd183",
   "metadata": {},
   "outputs": [],
   "source": []
  }
 ],
 "metadata": {
  "kernelspec": {
   "display_name": "Python",
   "language": "python",
   "name": "conda-env-python-py"
  },
  "language_info": {
   "codemirror_mode": {
    "name": "ipython",
    "version": 3
   },
   "file_extension": ".py",
   "mimetype": "text/x-python",
   "name": "python",
   "nbconvert_exporter": "python",
   "pygments_lexer": "ipython3",
   "version": "3.7.12"
  }
 },
 "nbformat": 4,
 "nbformat_minor": 5
}
